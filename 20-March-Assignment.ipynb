{
 "cells": [
  {
   "cell_type": "markdown",
   "id": "8ec1b930-c15b-4f00-8759-b7177ef84297",
   "metadata": {},
   "source": [
    "## Q1. What is data encoding? How is it useful in data science?\n",
    "\n",
    "    Data encoding is the process of converting data from one format to another, usually for the purpose of standardization or to prepare the data for analysis. \n",
    "        It is useful in data science because it enables us to work with data in a uniform and consistent manner, facilitating comparisons and analyses."
   ]
  },
  {
   "cell_type": "markdown",
   "id": "689d5c0f-e22a-4199-87f2-cded86eca0da",
   "metadata": {},
   "source": [
    "##Q2. What is nominal encoding? Provide an example of how you would use it in a real-world scenario.\n",
    "\n",
    "    Ans: Nominal encoding, also known as one-hot encoding, is a technique used in data preprocessing to convert categorical variables into a numerical format that can be used in machine learning algorithms. In nominal encoding, each category is assigned a unique binary value, with one indicating the presence of the category and zero indicating its absence.\n",
    "\n",
    "For example, in a dataset of customer reviews, a categorical variable like \"product category\" could be nominal encoded into binary variables such as \"is_electronics\", \"is_fashion\", \"is_home_goods\", etc. This can enable us to perform analyses on the categories while preserving the non-numeric nature of the data.\n"
   ]
  },
  {
   "cell_type": "markdown",
   "id": "1793ea24-fc64-4505-8f5c-b32db5c13045",
   "metadata": {},
   "source": [
    "## Q3. In what situations is nominal encoding preferred over one-hot encoding? Provide a practical example.\n",
    "\n",
    "    Ans: There is no difference between nominal encoding and one-hot encoding. Both techniques convert categorical variables into binary variables.\n",
    "         For example, in a dataset of different car makes and models, we might use nominal encoding to convert the categorical variable \"make\" into binary variables.\n"
   ]
  },
  {
   "cell_type": "markdown",
   "id": "780db36f-0b6a-4fe8-840e-b8414c3a41d7",
   "metadata": {},
   "source": [
    "## Q4. Suppose you have a dataset containing categorical data with 5 unique values. Which encoding\n",
    "technique would you use to transform this data into a format suitable for machine learning algorithms?\n",
    "Explain why you made this choice.\n",
    "\n",
    "    Ans: For categorical data with 5 unique values, I would use nominal encoding, also known as one-hot encoding, to transform the data into a format suitable \n",
    "         for machine learning algorithms. This is because nominal encoding assigns a unique binary value to each category, which can be used as input features in \n",
    "         machine learning algorithms.\n",
    "         Ordinal encoding, which assigns integer values based on the rank or order of the categories, would not be suitable for this data as there is no inherent \n",
    "         order or ranking to the categories. By using nominal encoding, we can preserve the non-numeric nature of the categories while also allowing the machine \n",
    "         learning algorithm to process the data effectively."
   ]
  },
  {
   "cell_type": "markdown",
   "id": "fabd8b87-0bf0-4012-b107-a5aaeb26e5b5",
   "metadata": {},
   "source": [
    "## Q5. In a machine learning project, you have a dataset with 1000 rows and 5 columns. Two of the columns\n",
    "are categorical, and the remaining three columns are numerical. If you were to use nominal encoding to\n",
    "transform the categorical data, how many new columns would be created? Show your calculations.\n",
    "\n",
    "    Ans: Assuming the two categorical columns have a total of k unique categories, nominal encoding would transform them into k binary columns.\n",
    "            Therefore, the number of new columns created would be:\n",
    "            k * 2 (since there are two categorical columns)\n",
    "        Without knowing the number of unique categories in the two categorical columns, it is not possible to determine the exact number of new columns that would be created."
   ]
  },
  {
   "cell_type": "markdown",
   "id": "8c5654b7-0126-4887-9c4d-968d2dc7569c",
   "metadata": {},
   "source": [
    "## Q6. You are working with a dataset containing information about different types of animals, including their\n",
    "species, habitat, and diet. Which encoding technique would you use to transform the categorical data into\n",
    "a format suitable for machine learning algorithms? Justify your answer.\n",
    "\n",
    "    Ans: For the given dataset containing information about different types of animals, I would use nominal encoding, also known as one-hot encoding, \n",
    "         to transform the categorical data into a format suitable for machine learning algorithms.\n",
    "         The reason for this is that nominal encoding is particularly useful when dealing with categorical variables with no inherent order or ranking. \n",
    "         In this case, both the \"species\" and \"habitat\" variables likely do not have a natural order or ranking, and nominal encoding would be a suitable \n",
    "         way to convert them into binary variables that can be processed by machine learning algorithms."
   ]
  },
  {
   "cell_type": "markdown",
   "id": "85d1ecec-b401-4971-85b8-a8c92675acbb",
   "metadata": {},
   "source": [
    "## Q7.You are working on a project that involves predicting customer churn for a telecommunications\n",
    "company. You have a dataset with 5 features, including the customer's gender, age, contract type,\n",
    "monthly charges, and tenure. Which encoding technique(s) would you use to transform the categorical\n",
    "data into numerical data? Provide a step-by-step explanation of how you would implement the encoding.\n",
    "\n",
    "    Ans: For the given dataset, the \"gender\" variable is nominal and the \"contract type\" variable is likely nominal as well, while the remaining three variables are numerical. \n",
    "         To transform the nominal categorical data into numerical data, I would use nominal encoding, also known as one-hot encoding.\n",
    "         Here's a step-by-step explanation of how I would implement the encoding:\n",
    "            1. Identify the nominal categorical variables: \"gender\" and \"contract type\"\n",
    "            2. Create binary variables for each unique category in the nominal categorical variables. For example, for the \"gender\" variable, \n",
    "                we would create two binary variables, one for \"Male\" and one for \"Female\". For the \"contract type\" variable, we would create \n",
    "                binary variables for each type of contract (e.g., \"Month-to-month\", \"One year\", \"Two year\").\n",
    "            3. Replace the original nominal categorical variables with the newly created binary variables.\n",
    "            4. Normalize the numerical variables (e.g., \"age\", \"monthly charges\", and \"tenure\") to ensure they are on the same scale and can be \n",
    "                processed by machine learning algorithms.\n",
    "            5. Use the transformed dataset to train and evaluate machine learning models to predict customer churn."
   ]
  }
 ],
 "metadata": {
  "kernelspec": {
   "display_name": "Python 3 (ipykernel)",
   "language": "python",
   "name": "python3"
  },
  "language_info": {
   "codemirror_mode": {
    "name": "ipython",
    "version": 3
   },
   "file_extension": ".py",
   "mimetype": "text/x-python",
   "name": "python",
   "nbconvert_exporter": "python",
   "pygments_lexer": "ipython3",
   "version": "3.10.8"
  }
 },
 "nbformat": 4,
 "nbformat_minor": 5
}
